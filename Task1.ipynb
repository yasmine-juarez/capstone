{
  "nbformat": 4,
  "nbformat_minor": 0,
  "metadata": {
    "colab": {
      "provenance": [],
      "mount_file_id": "1oyKaTXLADTOA4ZCZEpaNs0YzqqWRbnb2",
      "authorship_tag": "ABX9TyN532+1KRVpOK34amCCQTld",
      "include_colab_link": true
    },
    "kernelspec": {
      "name": "python3",
      "display_name": "Python 3"
    },
    "language_info": {
      "name": "python"
    }
  },
  "cells": [
    {
      "cell_type": "markdown",
      "metadata": {
        "id": "view-in-github",
        "colab_type": "text"
      },
      "source": [
        "<a href=\"https://colab.research.google.com/github/yasmine-juarez/capstone/blob/Zachary/Task1.ipynb\" target=\"_parent\"><img src=\"https://colab.research.google.com/assets/colab-badge.svg\" alt=\"Open In Colab\"/></a>"
      ]
    },
    {
      "cell_type": "code",
      "execution_count": null,
      "metadata": {
        "id": "xIgrF0jDBTB-"
      },
      "outputs": [],
      "source": [
        "import pandas as pd"
      ]
    },
    {
      "cell_type": "code",
      "source": [
        "freefair = pd.read_csv('/content/free-fair-elections-bti.csv')\n",
        "print(freefair.head())\n",
        "print(freefair)"
      ],
      "metadata": {
        "colab": {
          "base_uri": "https://localhost:8080/"
        },
        "id": "LyfO3NXkBwl1",
        "outputId": "9c754f56-9f4d-4aac-93fb-aeff2feb95a5"
      },
      "execution_count": null,
      "outputs": [
        {
          "output_type": "stream",
          "name": "stdout",
          "text": [
            "        Entity Code  Year  Free and fair elections\n",
            "0  Afghanistan  AFG  2005                        4\n",
            "1  Afghanistan  AFG  2007                        6\n",
            "2  Afghanistan  AFG  2009                        6\n",
            "3  Afghanistan  AFG  2011                        3\n",
            "4  Afghanistan  AFG  2013                        3\n",
            "           Entity Code  Year  Free and fair elections\n",
            "0     Afghanistan  AFG  2005                        4\n",
            "1     Afghanistan  AFG  2007                        6\n",
            "2     Afghanistan  AFG  2009                        6\n",
            "3     Afghanistan  AFG  2011                        3\n",
            "4     Afghanistan  AFG  2013                        3\n",
            "...           ...  ...   ...                      ...\n",
            "1293     Zimbabwe  ZWE  2015                        3\n",
            "1294     Zimbabwe  ZWE  2017                        3\n",
            "1295     Zimbabwe  ZWE  2019                        3\n",
            "1296     Zimbabwe  ZWE  2021                        3\n",
            "1297     Zimbabwe  ZWE  2023                        3\n",
            "\n",
            "[1298 rows x 4 columns]\n"
          ]
        }
      ]
    },
    {
      "cell_type": "code",
      "source": [
        "freefair_wide = freefair.pivot(index = \"Entity\", columns = 'Year', values = \"Free and fair elections\")\n",
        "freefair_wide.to_csv('freefair_wide.csv')\n",
        "print(freefair_wide)\n",
        "freefair_wide.head(5).plot(x='Year', y='Entity', kind='bar')"
      ],
      "metadata": {
        "id": "de1q1SvXJ3YO",
        "colab": {
          "base_uri": "https://localhost:8080/",
          "height": 793
        },
        "outputId": "bec945cd-c745-43c0-fd87-5ae7b5a63dbe"
      },
      "execution_count": null,
      "outputs": [
        {
          "output_type": "stream",
          "name": "stdout",
          "text": [
            "Year         2005  2007  2009  2011  2013  2015  2017  2019  2021  2023\n",
            "Entity                                                                 \n",
            "Afghanistan   4.0   6.0   6.0   3.0   3.0   3.0   3.0   4.0   3.0   1.0\n",
            "Albania       6.0   8.0   8.0   7.0   6.0   7.0   7.0   7.0   7.0   8.0\n",
            "Algeria       5.0   4.0   4.0   4.0   6.0   5.0   5.0   5.0   4.0   4.0\n",
            "Angola        1.0   1.0   6.0   6.0   4.0   3.0   3.0   4.0   4.0   4.0\n",
            "Argentina    10.0  10.0  10.0   9.0   9.0   9.0   9.0   9.0   9.0   9.0\n",
            "...           ...   ...   ...   ...   ...   ...   ...   ...   ...   ...\n",
            "Venezuela     8.0   6.0   6.0   6.0   6.0   6.0   4.0   2.0   2.0   2.0\n",
            "Vietnam       1.0   1.0   1.0   2.0   2.0   2.0   2.0   2.0   2.0   2.0\n",
            "Yemen         5.0   5.0   5.0   5.0   4.0   4.0   1.0   1.0   1.0   1.0\n",
            "Zambia        6.0   7.0   7.0   7.0   7.0   8.0   6.0   6.0   5.0   7.0\n",
            "Zimbabwe      3.0   3.0   3.0   3.0   3.0   3.0   3.0   3.0   3.0   3.0\n",
            "\n",
            "[137 rows x 10 columns]\n"
          ]
        },
        {
          "output_type": "error",
          "ename": "KeyError",
          "evalue": "'Year'",
          "traceback": [
            "\u001b[0;31m---------------------------------------------------------------------------\u001b[0m",
            "\u001b[0;31mKeyError\u001b[0m                                  Traceback (most recent call last)",
            "\u001b[0;32m/usr/local/lib/python3.11/dist-packages/pandas/core/indexes/base.py\u001b[0m in \u001b[0;36mget_loc\u001b[0;34m(self, key)\u001b[0m\n\u001b[1;32m   3804\u001b[0m         \u001b[0;32mtry\u001b[0m\u001b[0;34m:\u001b[0m\u001b[0;34m\u001b[0m\u001b[0;34m\u001b[0m\u001b[0m\n\u001b[0;32m-> 3805\u001b[0;31m             \u001b[0;32mreturn\u001b[0m \u001b[0mself\u001b[0m\u001b[0;34m.\u001b[0m\u001b[0m_engine\u001b[0m\u001b[0;34m.\u001b[0m\u001b[0mget_loc\u001b[0m\u001b[0;34m(\u001b[0m\u001b[0mcasted_key\u001b[0m\u001b[0;34m)\u001b[0m\u001b[0;34m\u001b[0m\u001b[0;34m\u001b[0m\u001b[0m\n\u001b[0m\u001b[1;32m   3806\u001b[0m         \u001b[0;32mexcept\u001b[0m \u001b[0mKeyError\u001b[0m \u001b[0;32mas\u001b[0m \u001b[0merr\u001b[0m\u001b[0;34m:\u001b[0m\u001b[0;34m\u001b[0m\u001b[0;34m\u001b[0m\u001b[0m\n",
            "\u001b[0;32mindex.pyx\u001b[0m in \u001b[0;36mpandas._libs.index.IndexEngine.get_loc\u001b[0;34m()\u001b[0m\n",
            "\u001b[0;32mindex.pyx\u001b[0m in \u001b[0;36mpandas._libs.index.IndexEngine.get_loc\u001b[0;34m()\u001b[0m\n",
            "\u001b[0;32mpandas/_libs/index_class_helper.pxi\u001b[0m in \u001b[0;36mpandas._libs.index.Int64Engine._check_type\u001b[0;34m()\u001b[0m\n",
            "\u001b[0;31mKeyError\u001b[0m: 'Year'",
            "\nThe above exception was the direct cause of the following exception:\n",
            "\u001b[0;31mKeyError\u001b[0m                                  Traceback (most recent call last)",
            "\u001b[0;32m<ipython-input-59-98aa4b2b64b3>\u001b[0m in \u001b[0;36m<cell line: 0>\u001b[0;34m()\u001b[0m\n\u001b[1;32m      2\u001b[0m \u001b[0mfreefair_wide\u001b[0m\u001b[0;34m.\u001b[0m\u001b[0mto_csv\u001b[0m\u001b[0;34m(\u001b[0m\u001b[0;34m'freefair_wide.csv'\u001b[0m\u001b[0;34m)\u001b[0m\u001b[0;34m\u001b[0m\u001b[0;34m\u001b[0m\u001b[0m\n\u001b[1;32m      3\u001b[0m \u001b[0mprint\u001b[0m\u001b[0;34m(\u001b[0m\u001b[0mfreefair_wide\u001b[0m\u001b[0;34m)\u001b[0m\u001b[0;34m\u001b[0m\u001b[0;34m\u001b[0m\u001b[0m\n\u001b[0;32m----> 4\u001b[0;31m \u001b[0mfreefair_wide\u001b[0m\u001b[0;34m.\u001b[0m\u001b[0mhead\u001b[0m\u001b[0;34m(\u001b[0m\u001b[0;36m5\u001b[0m\u001b[0;34m)\u001b[0m\u001b[0;34m.\u001b[0m\u001b[0mplot\u001b[0m\u001b[0;34m(\u001b[0m\u001b[0mx\u001b[0m\u001b[0;34m=\u001b[0m\u001b[0;34m'Year'\u001b[0m\u001b[0;34m,\u001b[0m \u001b[0my\u001b[0m\u001b[0;34m=\u001b[0m\u001b[0;34m'Entity'\u001b[0m\u001b[0;34m,\u001b[0m \u001b[0mkind\u001b[0m\u001b[0;34m=\u001b[0m\u001b[0;34m'bar'\u001b[0m\u001b[0;34m)\u001b[0m\u001b[0;34m\u001b[0m\u001b[0;34m\u001b[0m\u001b[0m\n\u001b[0m",
            "\u001b[0;32m/usr/local/lib/python3.11/dist-packages/pandas/plotting/_core.py\u001b[0m in \u001b[0;36m__call__\u001b[0;34m(self, *args, **kwargs)\u001b[0m\n\u001b[1;32m    993\u001b[0m                 \u001b[0;32mif\u001b[0m \u001b[0mis_integer\u001b[0m\u001b[0;34m(\u001b[0m\u001b[0mx\u001b[0m\u001b[0;34m)\u001b[0m \u001b[0;32mand\u001b[0m \u001b[0;32mnot\u001b[0m \u001b[0mdata\u001b[0m\u001b[0;34m.\u001b[0m\u001b[0mcolumns\u001b[0m\u001b[0;34m.\u001b[0m\u001b[0m_holds_integer\u001b[0m\u001b[0;34m(\u001b[0m\u001b[0;34m)\u001b[0m\u001b[0;34m:\u001b[0m\u001b[0;34m\u001b[0m\u001b[0;34m\u001b[0m\u001b[0m\n\u001b[1;32m    994\u001b[0m                     \u001b[0mx\u001b[0m \u001b[0;34m=\u001b[0m \u001b[0mdata_cols\u001b[0m\u001b[0;34m[\u001b[0m\u001b[0mx\u001b[0m\u001b[0;34m]\u001b[0m\u001b[0;34m\u001b[0m\u001b[0;34m\u001b[0m\u001b[0m\n\u001b[0;32m--> 995\u001b[0;31m                 \u001b[0;32melif\u001b[0m \u001b[0;32mnot\u001b[0m \u001b[0misinstance\u001b[0m\u001b[0;34m(\u001b[0m\u001b[0mdata\u001b[0m\u001b[0;34m[\u001b[0m\u001b[0mx\u001b[0m\u001b[0;34m]\u001b[0m\u001b[0;34m,\u001b[0m \u001b[0mABCSeries\u001b[0m\u001b[0;34m)\u001b[0m\u001b[0;34m:\u001b[0m\u001b[0;34m\u001b[0m\u001b[0;34m\u001b[0m\u001b[0m\n\u001b[0m\u001b[1;32m    996\u001b[0m                     \u001b[0;32mraise\u001b[0m \u001b[0mValueError\u001b[0m\u001b[0;34m(\u001b[0m\u001b[0;34m\"x must be a label or position\"\u001b[0m\u001b[0;34m)\u001b[0m\u001b[0;34m\u001b[0m\u001b[0;34m\u001b[0m\u001b[0m\n\u001b[1;32m    997\u001b[0m                 \u001b[0mdata\u001b[0m \u001b[0;34m=\u001b[0m \u001b[0mdata\u001b[0m\u001b[0;34m.\u001b[0m\u001b[0mset_index\u001b[0m\u001b[0;34m(\u001b[0m\u001b[0mx\u001b[0m\u001b[0;34m)\u001b[0m\u001b[0;34m\u001b[0m\u001b[0;34m\u001b[0m\u001b[0m\n",
            "\u001b[0;32m/usr/local/lib/python3.11/dist-packages/pandas/core/frame.py\u001b[0m in \u001b[0;36m__getitem__\u001b[0;34m(self, key)\u001b[0m\n\u001b[1;32m   4100\u001b[0m             \u001b[0;32mif\u001b[0m \u001b[0mself\u001b[0m\u001b[0;34m.\u001b[0m\u001b[0mcolumns\u001b[0m\u001b[0;34m.\u001b[0m\u001b[0mnlevels\u001b[0m \u001b[0;34m>\u001b[0m \u001b[0;36m1\u001b[0m\u001b[0;34m:\u001b[0m\u001b[0;34m\u001b[0m\u001b[0;34m\u001b[0m\u001b[0m\n\u001b[1;32m   4101\u001b[0m                 \u001b[0;32mreturn\u001b[0m \u001b[0mself\u001b[0m\u001b[0;34m.\u001b[0m\u001b[0m_getitem_multilevel\u001b[0m\u001b[0;34m(\u001b[0m\u001b[0mkey\u001b[0m\u001b[0;34m)\u001b[0m\u001b[0;34m\u001b[0m\u001b[0;34m\u001b[0m\u001b[0m\n\u001b[0;32m-> 4102\u001b[0;31m             \u001b[0mindexer\u001b[0m \u001b[0;34m=\u001b[0m \u001b[0mself\u001b[0m\u001b[0;34m.\u001b[0m\u001b[0mcolumns\u001b[0m\u001b[0;34m.\u001b[0m\u001b[0mget_loc\u001b[0m\u001b[0;34m(\u001b[0m\u001b[0mkey\u001b[0m\u001b[0;34m)\u001b[0m\u001b[0;34m\u001b[0m\u001b[0;34m\u001b[0m\u001b[0m\n\u001b[0m\u001b[1;32m   4103\u001b[0m             \u001b[0;32mif\u001b[0m \u001b[0mis_integer\u001b[0m\u001b[0;34m(\u001b[0m\u001b[0mindexer\u001b[0m\u001b[0;34m)\u001b[0m\u001b[0;34m:\u001b[0m\u001b[0;34m\u001b[0m\u001b[0;34m\u001b[0m\u001b[0m\n\u001b[1;32m   4104\u001b[0m                 \u001b[0mindexer\u001b[0m \u001b[0;34m=\u001b[0m \u001b[0;34m[\u001b[0m\u001b[0mindexer\u001b[0m\u001b[0;34m]\u001b[0m\u001b[0;34m\u001b[0m\u001b[0;34m\u001b[0m\u001b[0m\n",
            "\u001b[0;32m/usr/local/lib/python3.11/dist-packages/pandas/core/indexes/base.py\u001b[0m in \u001b[0;36mget_loc\u001b[0;34m(self, key)\u001b[0m\n\u001b[1;32m   3810\u001b[0m             ):\n\u001b[1;32m   3811\u001b[0m                 \u001b[0;32mraise\u001b[0m \u001b[0mInvalidIndexError\u001b[0m\u001b[0;34m(\u001b[0m\u001b[0mkey\u001b[0m\u001b[0;34m)\u001b[0m\u001b[0;34m\u001b[0m\u001b[0;34m\u001b[0m\u001b[0m\n\u001b[0;32m-> 3812\u001b[0;31m             \u001b[0;32mraise\u001b[0m \u001b[0mKeyError\u001b[0m\u001b[0;34m(\u001b[0m\u001b[0mkey\u001b[0m\u001b[0;34m)\u001b[0m \u001b[0;32mfrom\u001b[0m \u001b[0merr\u001b[0m\u001b[0;34m\u001b[0m\u001b[0;34m\u001b[0m\u001b[0m\n\u001b[0m\u001b[1;32m   3813\u001b[0m         \u001b[0;32mexcept\u001b[0m \u001b[0mTypeError\u001b[0m\u001b[0;34m:\u001b[0m\u001b[0;34m\u001b[0m\u001b[0;34m\u001b[0m\u001b[0m\n\u001b[1;32m   3814\u001b[0m             \u001b[0;31m# If we have a listlike key, _check_indexing_error will raise\u001b[0m\u001b[0;34m\u001b[0m\u001b[0;34m\u001b[0m\u001b[0m\n",
            "\u001b[0;31mKeyError\u001b[0m: 'Year'"
          ]
        }
      ]
    },
    {
      "cell_type": "code",
      "source": [
        "import matplotlib.pyplot as plt\n",
        "import numpy as np\n",
        "\n",
        "plt.plot()"
      ],
      "metadata": {
        "colab": {
          "base_uri": "https://localhost:8080/",
          "height": 448
        },
        "id": "Ebo-bMcKuH0d",
        "outputId": "0b0aed65-814b-41cc-8871-17b8853b69de"
      },
      "execution_count": null,
      "outputs": [
        {
          "output_type": "execute_result",
          "data": {
            "text/plain": [
              "[]"
            ]
          },
          "metadata": {},
          "execution_count": 31
        },
        {
          "output_type": "display_data",
          "data": {
            "text/plain": [
              "<Figure size 640x480 with 1 Axes>"
            ],
            "image/png": "[encoded data removed]"
          },
          "metadata": {}
        }
      ]
    },
    {
      "cell_type": "code",
      "source": [
        "WRP_nat = pd.read_csv('/content/WRP_national (1).csv')\n",
        "print(WRP_nat)"
      ],
      "metadata": {
        "colab": {
          "base_uri": "https://localhost:8080/",
          "height": 329
        },
        "id": "cj_EZHU4PesS",
        "outputId": "c5a8cb10-de87-4d23-dbd0-0faf7fbbd0cc"
      },
      "execution_count": null,
      "outputs": [
        {
          "output_type": "error",
          "ename": "FileNotFoundError",
          "evalue": "[Errno 2] No such file or directory: '/content/WRP_national (1).csv'",
          "traceback": [
            "\u001b[0;31m---------------------------------------------------------------------------\u001b[0m",
            "\u001b[0;31mFileNotFoundError\u001b[0m                         Traceback (most recent call last)",
            "\u001b[0;32m<ipython-input-32-1337938121b1>\u001b[0m in \u001b[0;36m<cell line: 0>\u001b[0;34m()\u001b[0m\n\u001b[0;32m----> 1\u001b[0;31m \u001b[0mWRP_nat\u001b[0m \u001b[0;34m=\u001b[0m \u001b[0mpd\u001b[0m\u001b[0;34m.\u001b[0m\u001b[0mread_csv\u001b[0m\u001b[0;34m(\u001b[0m\u001b[0;34m'/content/WRP_national (1).csv'\u001b[0m\u001b[0;34m)\u001b[0m\u001b[0;34m\u001b[0m\u001b[0;34m\u001b[0m\u001b[0m\n\u001b[0m\u001b[1;32m      2\u001b[0m \u001b[0mprint\u001b[0m\u001b[0;34m(\u001b[0m\u001b[0mWRP_nat\u001b[0m\u001b[0;34m)\u001b[0m\u001b[0;34m\u001b[0m\u001b[0;34m\u001b[0m\u001b[0m\n",
            "\u001b[0;32m/usr/local/lib/python3.11/dist-packages/pandas/io/parsers/readers.py\u001b[0m in \u001b[0;36mread_csv\u001b[0;34m(filepath_or_buffer, sep, delimiter, header, names, index_col, usecols, dtype, engine, converters, true_values, false_values, skipinitialspace, skiprows, skipfooter, nrows, na_values, keep_default_na, na_filter, verbose, skip_blank_lines, parse_dates, infer_datetime_format, keep_date_col, date_parser, date_format, dayfirst, cache_dates, iterator, chunksize, compression, thousands, decimal, lineterminator, quotechar, quoting, doublequote, escapechar, comment, encoding, encoding_errors, dialect, on_bad_lines, delim_whitespace, low_memory, memory_map, float_precision, storage_options, dtype_backend)\u001b[0m\n\u001b[1;32m   1024\u001b[0m     \u001b[0mkwds\u001b[0m\u001b[0;34m.\u001b[0m\u001b[0mupdate\u001b[0m\u001b[0;34m(\u001b[0m\u001b[0mkwds_defaults\u001b[0m\u001b[0;34m)\u001b[0m\u001b[0;34m\u001b[0m\u001b[0;34m\u001b[0m\u001b[0m\n\u001b[1;32m   1025\u001b[0m \u001b[0;34m\u001b[0m\u001b[0m\n\u001b[0;32m-> 1026\u001b[0;31m     \u001b[0;32mreturn\u001b[0m \u001b[0m_read\u001b[0m\u001b[0;34m(\u001b[0m\u001b[0mfilepath_or_buffer\u001b[0m\u001b[0;34m,\u001b[0m \u001b[0mkwds\u001b[0m\u001b[0;34m)\u001b[0m\u001b[0;34m\u001b[0m\u001b[0;34m\u001b[0m\u001b[0m\n\u001b[0m\u001b[1;32m   1027\u001b[0m \u001b[0;34m\u001b[0m\u001b[0m\n\u001b[1;32m   1028\u001b[0m \u001b[0;34m\u001b[0m\u001b[0m\n",
            "\u001b[0;32m/usr/local/lib/python3.11/dist-packages/pandas/io/parsers/readers.py\u001b[0m in \u001b[0;36m_read\u001b[0;34m(filepath_or_buffer, kwds)\u001b[0m\n\u001b[1;32m    618\u001b[0m \u001b[0;34m\u001b[0m\u001b[0m\n\u001b[1;32m    619\u001b[0m     \u001b[0;31m# Create the parser.\u001b[0m\u001b[0;34m\u001b[0m\u001b[0;34m\u001b[0m\u001b[0m\n\u001b[0;32m--> 620\u001b[0;31m     \u001b[0mparser\u001b[0m \u001b[0;34m=\u001b[0m \u001b[0mTextFileReader\u001b[0m\u001b[0;34m(\u001b[0m\u001b[0mfilepath_or_buffer\u001b[0m\u001b[0;34m,\u001b[0m \u001b[0;34m**\u001b[0m\u001b[0mkwds\u001b[0m\u001b[0;34m)\u001b[0m\u001b[0;34m\u001b[0m\u001b[0;34m\u001b[0m\u001b[0m\n\u001b[0m\u001b[1;32m    621\u001b[0m \u001b[0;34m\u001b[0m\u001b[0m\n\u001b[1;32m    622\u001b[0m     \u001b[0;32mif\u001b[0m \u001b[0mchunksize\u001b[0m \u001b[0;32mor\u001b[0m \u001b[0miterator\u001b[0m\u001b[0;34m:\u001b[0m\u001b[0;34m\u001b[0m\u001b[0;34m\u001b[0m\u001b[0m\n",
            "\u001b[0;32m/usr/local/lib/python3.11/dist-packages/pandas/io/parsers/readers.py\u001b[0m in \u001b[0;36m__init__\u001b[0;34m(self, f, engine, **kwds)\u001b[0m\n\u001b[1;32m   1618\u001b[0m \u001b[0;34m\u001b[0m\u001b[0m\n\u001b[1;32m   1619\u001b[0m         \u001b[0mself\u001b[0m\u001b[0;34m.\u001b[0m\u001b[0mhandles\u001b[0m\u001b[0;34m:\u001b[0m \u001b[0mIOHandles\u001b[0m \u001b[0;34m|\u001b[0m \u001b[0;32mNone\u001b[0m \u001b[0;34m=\u001b[0m \u001b[0;32mNone\u001b[0m\u001b[0;34m\u001b[0m\u001b[0;34m\u001b[0m\u001b[0m\n\u001b[0;32m-> 1620\u001b[0;31m         \u001b[0mself\u001b[0m\u001b[0;34m.\u001b[0m\u001b[0m_engine\u001b[0m \u001b[0;34m=\u001b[0m \u001b[0mself\u001b[0m\u001b[0;34m.\u001b[0m\u001b[0m_make_engine\u001b[0m\u001b[0;34m(\u001b[0m\u001b[0mf\u001b[0m\u001b[0;34m,\u001b[0m \u001b[0mself\u001b[0m\u001b[0;34m.\u001b[0m\u001b[0mengine\u001b[0m\u001b[0;34m)\u001b[0m\u001b[0;34m\u001b[0m\u001b[0;34m\u001b[0m\u001b[0m\n\u001b[0m\u001b[1;32m   1621\u001b[0m \u001b[0;34m\u001b[0m\u001b[0m\n\u001b[1;32m   1622\u001b[0m     \u001b[0;32mdef\u001b[0m \u001b[0mclose\u001b[0m\u001b[0;34m(\u001b[0m\u001b[0mself\u001b[0m\u001b[0;34m)\u001b[0m \u001b[0;34m->\u001b[0m \u001b[0;32mNone\u001b[0m\u001b[0;34m:\u001b[0m\u001b[0;34m\u001b[0m\u001b[0;34m\u001b[0m\u001b[0m\n",
            "\u001b[0;32m/usr/local/lib/python3.11/dist-packages/pandas/io/parsers/readers.py\u001b[0m in \u001b[0;36m_make_engine\u001b[0;34m(self, f, engine)\u001b[0m\n\u001b[1;32m   1878\u001b[0m                 \u001b[0;32mif\u001b[0m \u001b[0;34m\"b\"\u001b[0m \u001b[0;32mnot\u001b[0m \u001b[0;32min\u001b[0m \u001b[0mmode\u001b[0m\u001b[0;34m:\u001b[0m\u001b[0;34m\u001b[0m\u001b[0;34m\u001b[0m\u001b[0m\n\u001b[1;32m   1879\u001b[0m                     \u001b[0mmode\u001b[0m \u001b[0;34m+=\u001b[0m \u001b[0;34m\"b\"\u001b[0m\u001b[0;34m\u001b[0m\u001b[0;34m\u001b[0m\u001b[0m\n\u001b[0;32m-> 1880\u001b[0;31m             self.handles = get_handle(\n\u001b[0m\u001b[1;32m   1881\u001b[0m                 \u001b[0mf\u001b[0m\u001b[0;34m,\u001b[0m\u001b[0;34m\u001b[0m\u001b[0;34m\u001b[0m\u001b[0m\n\u001b[1;32m   1882\u001b[0m                 \u001b[0mmode\u001b[0m\u001b[0;34m,\u001b[0m\u001b[0;34m\u001b[0m\u001b[0;34m\u001b[0m\u001b[0m\n",
            "\u001b[0;32m/usr/local/lib/python3.11/dist-packages/pandas/io/common.py\u001b[0m in \u001b[0;36mget_handle\u001b[0;34m(path_or_buf, mode, encoding, compression, memory_map, is_text, errors, storage_options)\u001b[0m\n\u001b[1;32m    871\u001b[0m         \u001b[0;32mif\u001b[0m \u001b[0mioargs\u001b[0m\u001b[0;34m.\u001b[0m\u001b[0mencoding\u001b[0m \u001b[0;32mand\u001b[0m \u001b[0;34m\"b\"\u001b[0m \u001b[0;32mnot\u001b[0m \u001b[0;32min\u001b[0m \u001b[0mioargs\u001b[0m\u001b[0;34m.\u001b[0m\u001b[0mmode\u001b[0m\u001b[0;34m:\u001b[0m\u001b[0;34m\u001b[0m\u001b[0;34m\u001b[0m\u001b[0m\n\u001b[1;32m    872\u001b[0m             \u001b[0;31m# Encoding\u001b[0m\u001b[0;34m\u001b[0m\u001b[0;34m\u001b[0m\u001b[0m\n\u001b[0;32m--> 873\u001b[0;31m             handle = open(\n\u001b[0m\u001b[1;32m    874\u001b[0m                 \u001b[0mhandle\u001b[0m\u001b[0;34m,\u001b[0m\u001b[0;34m\u001b[0m\u001b[0;34m\u001b[0m\u001b[0m\n\u001b[1;32m    875\u001b[0m                 \u001b[0mioargs\u001b[0m\u001b[0;34m.\u001b[0m\u001b[0mmode\u001b[0m\u001b[0;34m,\u001b[0m\u001b[0;34m\u001b[0m\u001b[0;34m\u001b[0m\u001b[0m\n",
            "\u001b[0;31mFileNotFoundError\u001b[0m: [Errno 2] No such file or directory: '/content/WRP_national (1).csv'"
          ]
        }
      ]
    },
    {
      "cell_type": "code",
      "source": [
        "import pandas as pd\n",
        "import matplotlib.pyplot as plt\n",
        "import seaborn as sns\n",
        "from google.colab import files\n",
        "# WRP_national.csv\n",
        "# world religion project, by nation instead by global\n",
        "wrp_national_perc = pd.read_csv('WRP_1960_perc.csv')\n",
        "wrp_national_perc = wrp_national_perc.drop(columns = 'Unnamed: 0')\n",
        "# this dataset has been cleaned to include only populations, and percentages.\n",
        "#therefore, columns 4-39 have been removed from original WRP_national.csv\n",
        "wrp_national_perc.columns\n",
        "wrp_df = pd.DataFrame(wrp_national_perc)\n",
        "wrp_df_sorted = wrp_df.sort_values(by = 'name')"
      ],
      "metadata": {
        "id": "qe-GSWOss2Ef"
      },
      "execution_count": null,
      "outputs": []
    },
    {
      "cell_type": "code",
      "source": [
        "print(country_names.head())"
      ],
      "metadata": {
        "id": "cvEJOcjDcAWq",
        "colab": {
          "base_uri": "https://localhost:8080/"
        },
        "outputId": "c2762e7f-a36e-4c1c-ece2-6090711fab6f"
      },
      "execution_count": null,
      "outputs": [
        {
          "output_type": "stream",
          "name": "stdout",
          "text": [
            "  Abbreviation              Names Unnamed: 2\n",
            "0          AAB  Antigua & Barbuda        NaN\n",
            "1          AFG        Afghanistan        NaN\n",
            "2          ALB            Albania        NaN\n",
            "3          ALG            Algeria        NaN\n",
            "4          AND            Andorra        NaN\n"
          ]
        }
      ]
    },
    {
      "cell_type": "code",
      "source": [
        "# Country Names\n",
        "country_names = pd.read_excel('WRP names(1).xlsx')\n",
        "\n",
        "names_column = country_names['Names']\n",
        "abbrev_column = country_names['Abbreviation']\n",
        "names_column = names_column.tolist()\n",
        "abbrev_column = abbrev_column.tolist()\n",
        "replace_comp = dict(zip(abbrev_column, names_column))\n",
        "# print(replace_comp)\n",
        "# Country Names\n",
        "country_names = pd.read_excel('WRP names(1).xlsx')\n",
        "print(country_names.head())\n",
        "names_column = country_names['Names']\n",
        "print(names_column)\n",
        "abbrev_column = country_names['Abbreviation']\n",
        "names_column = names_column.tolist()\n",
        "abbrev_column = abbrev_column.tolist()\n",
        "replace_comp = dict(zip(abbrev_column, names_column))\n",
        "print(replace_comp)\n",
        "\n",
        "wrp_df_sorted['name'].replace(replace_comp, inplace = True) #replacing Abbreviations with names\n",
        "print(wrp_df_sorted)"
      ],
      "metadata": {
        "colab": {
          "base_uri": "https://localhost:8080/"
        },
        "id": "NdDT-zquIUKC",
        "outputId": "0c78553b-5b18-4e64-9942-f69524f5033b"
      },
      "execution_count": null,
      "outputs": [
        {
          "output_type": "stream",
          "name": "stdout",
          "text": [
            "  Abbreviation              Names Unnamed: 2\n",
            "0          AAB  Antigua & Barbuda        NaN\n",
            "1          AFG        Afghanistan        NaN\n",
            "2          ALB            Albania        NaN\n",
            "3          ALG            Algeria        NaN\n",
            "4          AND            Andorra        NaN\n",
            "0      Antigua & Barbuda\n",
            "1            Afghanistan\n",
            "2                Albania\n",
            "3                Algeria\n",
            "4                Andorra\n",
            "             ...        \n",
            "214          South Yemen\n",
            "215               Serbia\n",
            "216               Zambia\n",
            "217             Zanzibar\n",
            "218             Zimbabwe\n",
            "Name: Names, Length: 219, dtype: object\n",
            "{'AAB': 'Antigua & Barbuda', 'AFG': 'Afghanistan', 'ALB': 'Albania', 'ALG': 'Algeria', 'AND': 'Andorra', 'ANG': 'Angola', 'ARG': 'Argentina', 'ARM': 'Armenia', 'AUH': 'Austria-Hungary', 'AUL': 'Australia', 'AUS': 'Austria', 'AZE': 'Azerbaijan', 'BAD': 'Baden', 'BAH': 'Bahrain', 'BAR': 'Barbados', 'BAV': 'Bavaria', 'BEL': 'Belgium', 'BEN': 'Benin', 'BFO': 'Burkina Faso', 'BHM': 'Bahamas', 'BHU': 'Bhutan', 'BLR': 'Belarus', 'BLZ': 'Belize', 'BNG': 'Bangladesh', 'BOL': 'Bolivia', 'BOS': 'Bosnia and Herzegovina', 'BOT': 'Botswana', 'BRA': 'Brazil', 'BRU': 'Brunei', 'BUI': 'Burundi', 'BUL': 'Bulgaria', 'CAM': 'Cambodia', 'CAN': 'Canada', 'CAO': 'Cameroon', 'CAP': 'Cape Verde', 'CDI': 'Ivory Coast', 'CEN': 'Central African Republic', 'CHA': 'Chad', 'CHL': 'Chile', 'CHN': 'China', 'COL': 'Colombia', 'COM': 'Comoros', 'CON': 'Republic of the Congo', 'COS': 'Costa Rica', 'CRO': 'Croatia', 'CUB': 'Cuba', 'CYP': 'Cyprus', 'CZE': 'Czechoslovakia', 'CZR': 'Czechia', 'DEN': 'Denmark', 'DJI': 'Djibouti', 'DMA': 'Dominica', 'DOM': 'Dominican Republic', 'DRC': 'Democratic Republic of the Congo', 'DRV': 'Vietnam', 'ECU': 'Ecuador', 'EGY': 'Egypt', 'EQG': 'Equatorial Guinea', 'ERI': 'Eritrea', 'EST': 'Estonia', 'ETH': 'Ethiopia', 'ETM': 'Timor-Leste', 'EU': 'European Community/Union', 'FIJ': 'Fiji', 'FIN': 'Finland', 'FRN': 'France', 'FSM': 'Federated States of Micronesia', 'GAB': 'Gabon', 'GAM': 'The Gambia', 'GDR': 'German Democratic Republic', 'GFR': 'German Federal Republic', 'GHA': 'Ghana', 'GMY': 'Germany', 'GNB': 'Guinea-Bissau', 'GRC': 'Greece', 'GRG': 'Georgia', 'GRN': 'Grenada', 'GUA': 'Guatemala', 'GUI': 'Guinea', 'GUY': 'Guyana', 'HAI': 'Haiti', 'HAN': 'Hanover', 'HKG': 'Hong Kong', 'HON': 'Honduras', 'HSE': 'Hesse Electoral', 'HSG': 'Hesse Grand Ducal', 'HUN': 'Hungary', 'ICE': 'Iceland', 'IND': 'India', 'INS': 'Indonesia', 'IRE': 'Ireland', 'IRN': 'Iran', 'IRQ': 'Iraq', 'ISR': 'Israel', 'ITA': 'Italy', 'JAM': 'Jamaica', 'JOR': 'Jordan', 'JPN': 'Japan', 'KEN': 'Kenya', 'KIR': 'Kiribati', 'KOR': 'Korea', 'KOS': 'Kosovo', 'KUW': 'Kuwait', 'KYR': 'Kyrgyzstan', 'KZK': 'Kazakhstan', 'LAO': 'Laos', 'LAT': 'Latvia', 'LBR': 'Liberia', 'LEB': 'Lebanon', 'LES': 'Lesotho', 'LIB': 'Libya', 'LIE': 'Liechtenstein', 'LIT': 'Lithuania', 'LUX': 'Luxembourg', 'MAA': 'Mauritania', 'MAC': 'Macedonia', 'MAD': 'Maldives', 'MAG': 'Madagascar', 'MAL': 'Malaysia', 'MAS': 'Mauritius', 'MAW': 'Malawi', 'MEC': 'Mecklenburg Schwerin', 'MEX': 'Mexico', 'MLD': 'Moldova', 'MLI': 'Mali', 'MLT': 'Malta', 'MNC': 'Monaco', 'MNG': 'Montenegro', 'MOD': 'Modena', 'MON': 'Mongolia', 'MOR': 'Morocco', 'MSI': 'Marshall Islands', 'MYA': 'Burma/Myanmar', 'MZM': 'Mozambique', 'NAM': 'Namibia', 'NAU': 'Nauru', 'NEP': 'Nepal', 'NEW': 'New Zealand', 'NIC': 'Nicaragua', 'NIG': 'Nigeria', 'NIR': 'Niger', 'NOR': 'Norway', 'NTH': 'Netherlands', 'OMA': 'Oman', 'PAK': 'Pakistan', 'PAL': 'Palau', 'PAN': 'Panama', 'PAP': 'Papal States', 'PAR': 'Paraguay', 'PER': 'Peru', 'PHI': 'Philippines', 'PMA': 'Parma', 'PNG': 'Papua New Guinea', 'POL': 'Poland', 'POR': 'Portugal', 'PRK': 'North Korea', 'QAT': 'Qatar', 'ROK': 'South Korea', 'ROM': 'Romania', 'RUS': 'Russia', 'RVN': 'Republic of Vietnam', 'RWA': 'Rwanda', 'SAF': 'South Africa', 'SAL': 'El Salvador', 'SAU': 'Saudi Arabia', 'SAX': 'Saxony', 'SEN': 'Senegal', 'SEY': 'Seychelles', 'SIC': 'Two Sicilies', 'SIE': 'Sierra Leone', 'SIN': 'Singapore', 'SKN': 'St. Kitts and Nevis', 'SLO': 'Slovakia', 'SLU': 'St. Lucia', 'SLV': 'Slovenia', 'SNM': 'San Marino', 'SOL': 'Solomon Islands', 'SOM': 'Somalia', 'SPN': 'Spain', 'SRI': 'Sri Lanka', 'SSD': 'South Sudan', 'STP': 'Sao Tome and Principe', 'SUD': 'Sudan', 'SUR': 'Suriname', 'SVG': 'St. Vincent and the Grenadines', 'SWA': 'Swaziland', 'SWD': 'Sweden', 'SWZ': 'Switzerland', 'SYR': 'Syria', 'TAJ': 'Tajikistan', 'TAW': 'Taiwan', 'TAZ': 'Tanzania', 'THI': 'Thailand', 'TKM': 'Turkmenistan', 'TOG': 'Togo', 'TON': 'Tonga', 'TRI': 'Trinidad and Tobago', 'TUN': 'Tunisia', 'TUR': 'Türkiye', 'TUS': 'Tuscany', 'TUV': 'Tuvalu', 'UAE': 'United Arab Emirates', 'UGA': 'Uganda', 'UKG': 'United Kingdom', 'UKR': 'Ukraine', 'URU': 'Uruguay', 'USA': 'United States of America', 'UZB': 'Uzbekistan', 'VAN': 'Vanuatu', 'VEN': 'Venezuela', 'WRT': 'Wuerttemburg', 'WSM': 'Samoa', 'YAR': 'Yemen Arab Republic', 'YEM': 'Yemen', 'YPR': 'South Yemen', 'YUG': 'Serbia', 'ZAM': 'Zambia', 'ZAN': 'Zanzibar', 'ZIM': 'Zimbabwe'}\n",
            "      year  state               name       pop  chrstprotpct  chrstcatpct  \\\n",
            "123   1980     58  Antigua & Barbuda     63000        0.3698       0.1071   \n",
            "124   1985     58  Antigua & Barbuda     64000        0.3438       0.1250   \n",
            "125   1990     58  Antigua & Barbuda     59355        0.4605       0.1047   \n",
            "129   2010     58  Antigua & Barbuda     86900        0.5030       0.1000   \n",
            "128   2005     58  Antigua & Barbuda     83000        0.4653       0.0925   \n",
            "...    ...    ...                ...       ...           ...          ...   \n",
            "1101  1990    552           Zimbabwe   9369000        0.1334       0.0971   \n",
            "1102  1995    552           Zimbabwe  11526000        0.1500       0.0869   \n",
            "1103  2000    552           Zimbabwe  11669000        0.1231       0.0959   \n",
            "1105  2010    552           Zimbabwe  12165294        0.1970       0.1895   \n",
            "1100  1985    552           Zimbabwe   8379000        0.1428       0.1111   \n",
            "\n",
            "      chrstorthpct  chrstangpct  chrstothrpct  chrstgenpct  ...  jaingenpct  \\\n",
            "123         0.0000       0.3667        0.0000       0.8437  ...         0.0   \n",
            "124         0.0000       0.3555        0.0000       0.8242  ...         0.0   \n",
            "125         0.0000       0.2376        0.0000       0.8028  ...         0.0   \n",
            "129         0.0540       0.2570        0.0000       0.9140  ...         0.0   \n",
            "128         0.0283       0.2323        0.0000       0.8183  ...         0.0   \n",
            "...            ...          ...           ...          ...  ...         ...   \n",
            "1101        0.0004       0.0294        0.4387       0.6990  ...         0.0   \n",
            "1102        0.0004       0.0251        0.4553       0.7177  ...         0.0   \n",
            "1103        0.0004       0.0260        0.4028       0.6482  ...         0.0   \n",
            "1105        0.0037       0.0464        0.3823       0.8188  ...         0.0   \n",
            "1100        0.0004       0.0303        0.3656       0.6502  ...         0.0   \n",
            "\n",
            "      confgenpct  syncgenpct  anmgenpct  nonreligpct  othrgenpct  sumreligpct  \\\n",
            "123          0.0      0.0000     0.0238       0.0000      0.1151       0.8849   \n",
            "124          0.0      0.0000     0.0000       0.0000      0.1758       0.8242   \n",
            "125          0.0      0.0000     0.0337       0.0328      0.1164       0.8836   \n",
            "129          0.0      0.0000     0.0000       0.0590      0.0270       0.9730   \n",
            "128          0.0      0.0134     0.0000       0.0533      0.1093       0.8907   \n",
            "...          ...         ...        ...          ...         ...          ...   \n",
            "1101         0.0      0.0000     0.2530       0.0091      0.0248       0.9752   \n",
            "1102         0.0      0.0000     0.2300       0.0096      0.0304       0.9696   \n",
            "1103         0.0      0.0000     0.2657       0.0150      0.0586       0.9414   \n",
            "1105         0.0      0.0000     0.1354       0.0256      0.0049       0.9951   \n",
            "1100         0.0      0.0000     0.3200       0.0058      0.0102       0.9898   \n",
            "\n",
            "       total  dualrelig  reliabilevel  \n",
            "123   1.0000          0        Medium  \n",
            "124   1.0000          0          High  \n",
            "125   1.0000          0          High  \n",
            "129   1.0000          0        Medium  \n",
            "128   1.0001          0        Medium  \n",
            "...      ...        ...           ...  \n",
            "1101  1.0000          0        Medium  \n",
            "1102  1.0000          0        Medium  \n",
            "1103  0.9999          0        Medium  \n",
            "1105  0.9999          0          High  \n",
            "1100  1.0000          0        Medium  \n",
            "\n",
            "[1768 rows x 43 columns]\n"
          ]
        }
      ]
    },
    {
      "cell_type": "code",
      "source": [
        "print(wrp_df_sorted['name'].unique())"
      ],
      "metadata": {
        "colab": {
          "base_uri": "https://localhost:8080/"
        },
        "id": "swPORcCmjPsb",
        "outputId": "7f359edf-55bb-4110-f291-4a99b40af50e"
      },
      "execution_count": null,
      "outputs": [
        {
          "output_type": "stream",
          "name": "stdout",
          "text": [
            "['Antigua & Barbuda' 'Afghanistan' 'Albania' 'Algeria' 'Andorra' 'Angola'\n",
            " 'Argentina' 'Armenia' 'Australia' 'Austria' 'Azerbaijan' 'Bahrain'\n",
            " 'Barbados' 'Belgium' 'Benin' 'Burkina Faso' 'Bahamas' 'Bhutan' 'Belarus'\n",
            " 'Belize' 'Bangladesh' 'Bolivia' 'Bosnia and Herzegovina' 'Botswana'\n",
            " 'Brazil' 'Brunei' 'Burundi' 'Bulgaria' 'Cambodia' 'Canada' 'Cameroon'\n",
            " 'Cape Verde' 'Ivory Coast' 'Central African Republic' 'Chad' 'Chile'\n",
            " 'China' 'Colombia' 'Comoros' 'Republic of the Congo' 'Costa Rica'\n",
            " 'Croatia' 'Cuba' 'Cyprus' 'Czechoslovakia' 'Czechia' 'Denmark' 'Djibouti'\n",
            " 'Dominica' 'Dominican Republic' 'Democratic Republic of the Congo'\n",
            " 'Vietnam' 'Ecuador' 'Egypt' 'Equatorial Guinea' 'Eritrea' 'Estonia'\n",
            " 'Ethiopia' 'Timor-Leste' 'Fiji' 'Finland' 'France'\n",
            " 'Federated States of Micronesia' 'Gabon' 'The Gambia'\n",
            " 'German Democratic Republic' 'German Federal Republic' 'Ghana' 'Germany'\n",
            " 'Guinea-Bissau' 'Greece' 'Georgia' 'Grenada' 'Guatemala' 'Guinea'\n",
            " 'Guyana' 'Haiti' 'Honduras' 'Hungary' 'Iceland' 'India' 'Indonesia'\n",
            " 'Ireland' 'Iran' 'Iraq' 'Israel' 'Italy' 'Jamaica' 'Jordan' 'Japan'\n",
            " 'Kenya' 'Kiribati' 'Kosovo' 'Kuwait' 'Kyrgyzstan' 'Kazakhstan' 'Laos'\n",
            " 'Latvia' 'Liberia' 'Lebanon' 'Lesotho' 'Libya' 'Liechtenstein'\n",
            " 'Lithuania' 'Luxembourg' 'Mauritania' 'Macedonia' 'Maldives' 'Madagascar'\n",
            " 'Malaysia' 'Mauritius' 'Malawi' 'Mexico' 'Moldova' 'Mali' 'Malta'\n",
            " 'Monaco' 'Montenegro' 'Mongolia' 'Morocco' 'Marshall Islands'\n",
            " 'Burma/Myanmar' 'Mozambique' 'Namibia' 'Nauru' 'Nepal' 'New Zealand'\n",
            " 'Nicaragua' 'Nigeria' 'Niger' 'Norway' 'Netherlands' 'Oman' 'Pakistan'\n",
            " 'Palau' 'Panama' 'Paraguay' 'Peru' 'Philippines' 'Papua New Guinea'\n",
            " 'Poland' 'Portugal' 'North Korea' 'Qatar' 'South Korea' 'Romania'\n",
            " 'Russia' 'Republic of Vietnam' 'Rwanda' 'South Africa' 'El Salvador'\n",
            " 'Saudi Arabia' 'Senegal' 'Seychelles' 'Sierra Leone' 'Singapore'\n",
            " 'St. Kitts and Nevis' 'Slovakia' 'St. Lucia' 'Slovenia' 'San Marino'\n",
            " 'Solomon Islands' 'Somalia' 'Spain' 'Sri Lanka' 'Sao Tome and Principe'\n",
            " 'Sudan' 'Suriname' 'St. Vincent and the Grenadines' 'Swaziland' 'Sweden'\n",
            " 'Switzerland' 'Syria' 'Tajikistan' 'Taiwan' 'Tanzania' 'Thailand'\n",
            " 'Turkmenistan' 'Togo' 'Tonga' 'Trinidad and Tobago' 'Tunisia' 'Türkiye'\n",
            " 'Tuvalu' 'United Arab Emirates' 'Uganda' 'United Kingdom' 'Ukraine'\n",
            " 'Uruguay' 'United States of America' 'Uzbekistan' 'Vanuatu' 'Venezuela'\n",
            " 'Samoa' 'Yemen Arab Republic' 'Yemen' 'South Yemen' 'Serbia' 'Zambia'\n",
            " 'Zimbabwe']\n"
          ]
        }
      ]
    },
    {
      "cell_type": "code",
      "source": [
        "# Matching to vdem\n",
        "vdem = pd.read_csv('V-Dem-CY-Full+Others-v14.csv')"
      ],
      "metadata": {
        "colab": {
          "base_uri": "https://localhost:8080/"
        },
        "id": "YB1lW7u1qC76",
        "outputId": "e7b7a665-774a-4946-c756-99f2e5457516"
      },
      "execution_count": null,
      "outputs": [
        {
          "output_type": "stream",
          "name": "stderr",
          "text": [
            "<ipython-input-7-af369026a77a>:2: DtypeWarning: Columns (364,365,366,399,415,804,836,837,924,1240,1257,1486,3094,3168,3169,3341,3342,3344,3345,3347,3350,3352) have mixed types. Specify dtype option on import or set low_memory=False.\n",
            "  vdem = pd.read_csv('V-Dem-CY-Full+Others-v14.csv')\n"
          ]
        }
      ]
    },
    {
      "cell_type": "code",
      "source": [
        "vdem_set = set(sorted(vdem['country_name'].unique()))\n",
        "wrp_set = set(sorted(wrp_df_sorted['name'].unique()))\n",
        "print(sorted(vdem_set))\n",
        "print(sorted(wrp_set))\n",
        "print(vdem_set - wrp_set)\n",
        "# print(sorted(wrp_set - vdem_set))\n",
        "# print(wrp_df_sorted.head)"
      ],
      "metadata": {
        "id": "e4v0LRGM6VhZ",
        "colab": {
          "base_uri": "https://localhost:8080/"
        },
        "outputId": "cc18902a-f699-492c-9509-980ef4936b48"
      },
      "execution_count": null,
      "outputs": [
        {
          "output_type": "stream",
          "name": "stdout",
          "text": [
            "['Afghanistan', 'Albania', 'Algeria', 'Angola', 'Argentina', 'Armenia', 'Australia', 'Austria', 'Azerbaijan', 'Baden', 'Bahrain', 'Bangladesh', 'Barbados', 'Bavaria', 'Belarus', 'Belgium', 'Benin', 'Bhutan', 'Bolivia', 'Bosnia and Herzegovina', 'Botswana', 'Brazil', 'Brunswick', 'Bulgaria', 'Burkina Faso', 'Burma/Myanmar', 'Burundi', 'Cambodia', 'Cameroon', 'Canada', 'Cape Verde', 'Central African Republic', 'Chad', 'Chile', 'China', 'Colombia', 'Comoros', 'Costa Rica', 'Croatia', 'Cuba', 'Cyprus', 'Czechia', 'Democratic Republic of the Congo', 'Denmark', 'Djibouti', 'Dominican Republic', 'Ecuador', 'Egypt', 'El Salvador', 'Equatorial Guinea', 'Eritrea', 'Estonia', 'Eswatini', 'Ethiopia', 'Fiji', 'Finland', 'France', 'Gabon', 'Georgia', 'German Democratic Republic', 'Germany', 'Ghana', 'Greece', 'Guatemala', 'Guinea', 'Guinea-Bissau', 'Guyana', 'Haiti', 'Hamburg', 'Hanover', 'Hesse-Darmstadt', 'Hesse-Kassel', 'Honduras', 'Hong Kong', 'Hungary', 'Iceland', 'India', 'Indonesia', 'Iran', 'Iraq', 'Ireland', 'Israel', 'Italy', 'Ivory Coast', 'Jamaica', 'Japan', 'Jordan', 'Kazakhstan', 'Kenya', 'Kosovo', 'Kuwait', 'Kyrgyzstan', 'Laos', 'Latvia', 'Lebanon', 'Lesotho', 'Liberia', 'Libya', 'Lithuania', 'Luxembourg', 'Madagascar', 'Malawi', 'Malaysia', 'Maldives', 'Mali', 'Malta', 'Mauritania', 'Mauritius', 'Mecklenburg Schwerin', 'Mexico', 'Modena', 'Moldova', 'Mongolia', 'Montenegro', 'Morocco', 'Mozambique', 'Namibia', 'Nassau', 'Nepal', 'Netherlands', 'New Zealand', 'Nicaragua', 'Niger', 'Nigeria', 'North Korea', 'North Macedonia', 'Norway', 'Oldenburg', 'Oman', 'Pakistan', 'Palestine/British Mandate', 'Palestine/Gaza', 'Palestine/West Bank', 'Panama', 'Papal States', 'Papua New Guinea', 'Paraguay', 'Parma', 'Peru', 'Philippines', 'Piedmont-Sardinia', 'Poland', 'Portugal', 'Qatar', 'Republic of Vietnam', 'Republic of the Congo', 'Romania', 'Russia', 'Rwanda', 'Sao Tome and Principe', 'Saudi Arabia', 'Saxe-Weimar-Eisenach', 'Saxony', 'Senegal', 'Serbia', 'Seychelles', 'Sierra Leone', 'Singapore', 'Slovakia', 'Slovenia', 'Solomon Islands', 'Somalia', 'Somaliland', 'South Africa', 'South Korea', 'South Sudan', 'South Yemen', 'Spain', 'Sri Lanka', 'Sudan', 'Suriname', 'Sweden', 'Switzerland', 'Syria', 'Taiwan', 'Tajikistan', 'Tanzania', 'Thailand', 'The Gambia', 'Timor-Leste', 'Togo', 'Trinidad and Tobago', 'Tunisia', 'Turkmenistan', 'Tuscany', 'Two Sicilies', 'Türkiye', 'Uganda', 'Ukraine', 'United Arab Emirates', 'United Kingdom', 'United States of America', 'Uruguay', 'Uzbekistan', 'Vanuatu', 'Venezuela', 'Vietnam', 'Würtemberg', 'Yemen', 'Zambia', 'Zanzibar', 'Zimbabwe']\n",
            "['Afghanistan', 'Albania', 'Algeria', 'Andorra', 'Angola', 'Antigua & Barbuda', 'Argentina', 'Armenia', 'Australia', 'Austria', 'Azerbaijan', 'Bahamas', 'Bahrain', 'Bangladesh', 'Barbados', 'Belarus', 'Belgium', 'Belize', 'Benin', 'Bhutan', 'Bolivia', 'Bosnia and Herzegovina', 'Botswana', 'Brazil', 'Brunei', 'Bulgaria', 'Burkina Faso', 'Burma/Myanmar', 'Burundi', 'Cambodia', 'Cameroon', 'Canada', 'Cape Verde', 'Central African Republic', 'Chad', 'Chile', 'China', 'Colombia', 'Comoros', 'Costa Rica', 'Croatia', 'Cuba', 'Cyprus', 'Czechia', 'Czechoslovakia', 'Democratic Republic of the Congo', 'Denmark', 'Djibouti', 'Dominica', 'Dominican Republic', 'Ecuador', 'Egypt', 'El Salvador', 'Equatorial Guinea', 'Eritrea', 'Estonia', 'Ethiopia', 'Federated States of Micronesia', 'Fiji', 'Finland', 'France', 'Gabon', 'Georgia', 'German Democratic Republic', 'German Federal Republic', 'Germany', 'Ghana', 'Greece', 'Grenada', 'Guatemala', 'Guinea', 'Guinea-Bissau', 'Guyana', 'Haiti', 'Honduras', 'Hungary', 'Iceland', 'India', 'Indonesia', 'Iran', 'Iraq', 'Ireland', 'Israel', 'Italy', 'Ivory Coast', 'Jamaica', 'Japan', 'Jordan', 'Kazakhstan', 'Kenya', 'Kiribati', 'Kosovo', 'Kuwait', 'Kyrgyzstan', 'Laos', 'Latvia', 'Lebanon', 'Lesotho', 'Liberia', 'Libya', 'Liechtenstein', 'Lithuania', 'Luxembourg', 'Macedonia', 'Madagascar', 'Malawi', 'Malaysia', 'Maldives', 'Mali', 'Malta', 'Marshall Islands', 'Mauritania', 'Mauritius', 'Mexico', 'Moldova', 'Monaco', 'Mongolia', 'Montenegro', 'Morocco', 'Mozambique', 'Namibia', 'Nauru', 'Nepal', 'Netherlands', 'New Zealand', 'Nicaragua', 'Niger', 'Nigeria', 'North Korea', 'Norway', 'Oman', 'Pakistan', 'Palau', 'Panama', 'Papua New Guinea', 'Paraguay', 'Peru', 'Philippines', 'Poland', 'Portugal', 'Qatar', 'Republic of Vietnam', 'Republic of the Congo', 'Romania', 'Russia', 'Rwanda', 'Samoa', 'San Marino', 'Sao Tome and Principe', 'Saudi Arabia', 'Senegal', 'Serbia', 'Seychelles', 'Sierra Leone', 'Singapore', 'Slovakia', 'Slovenia', 'Solomon Islands', 'Somalia', 'South Africa', 'South Korea', 'South Yemen', 'Spain', 'Sri Lanka', 'St. Kitts and Nevis', 'St. Lucia', 'St. Vincent and the Grenadines', 'Sudan', 'Suriname', 'Swaziland', 'Sweden', 'Switzerland', 'Syria', 'Taiwan', 'Tajikistan', 'Tanzania', 'Thailand', 'The Gambia', 'Timor-Leste', 'Togo', 'Tonga', 'Trinidad and Tobago', 'Tunisia', 'Turkmenistan', 'Tuvalu', 'Türkiye', 'Uganda', 'Ukraine', 'United Arab Emirates', 'United Kingdom', 'United States of America', 'Uruguay', 'Uzbekistan', 'Vanuatu', 'Venezuela', 'Vietnam', 'Yemen', 'Yemen Arab Republic', 'Zambia', 'Zimbabwe']\n",
            "{'Hanover', 'Hong Kong', 'Nassau', 'Saxe-Weimar-Eisenach', 'Zanzibar', 'Hamburg', 'Somaliland', 'Bavaria', 'Oldenburg', 'Hesse-Kassel', 'South Sudan', 'Eswatini', 'Baden', 'Papal States', 'Saxony', 'Two Sicilies', 'Würtemberg', 'Mecklenburg Schwerin', 'Palestine/British Mandate', 'Palestine/Gaza', 'Hesse-Darmstadt', 'Palestine/West Bank', 'Parma', 'Tuscany', 'Piedmont-Sardinia', 'Brunswick', 'North Macedonia', 'Modena'}\n"
          ]
        }
      ]
    },
    {
      "cell_type": "code",
      "source": [
        "wrp_df_sorted.to_csv('wrp_df_matching.csv')"
      ],
      "metadata": {
        "id": "l2I5BwCQlHW0"
      },
      "execution_count": null,
      "outputs": []
    },
    {
      "cell_type": "code",
      "source": [
        "# Pivot the dataframe to have 'Country' as index, 'Year' as columns, and metrics as values\n",
        "wrp_national_perc_pivot = wrp_national_perc.pivot(index=\"name\", columns=\"year\")\n",
        "\n",
        "# Flatten the multi-index columns for better readability\n",
        "wrp_national_perc_pivot.columns = [f\"{col[1]}_{col[0]}\" for col in wrp_national_perc_pivot.columns]\n",
        "\n",
        "# Reset index to make 'Country' a column again\n",
        "wrp_national_perc_pivot.reset_index(inplace=True)\n",
        "\n",
        "# Show the transformed data\n",
        "print(wrp_national_perc_pivot.head())\n",
        "wrp_national_perc_pivot.tail()\n",
        "\n",
        "# Export to .csv\n",
        "wrp_national_perc_pivot.to_csv('wrp_n_perc_piv.csv', index = False)\n",
        "\n"
      ],
      "metadata": {
        "colab": {
          "base_uri": "https://localhost:8080/"
        },
        "id": "gXM3xleh7nEw",
        "outputId": "ffbb2358-33ee-4ec5-b4fc-93a9569d2d6e"
      },
      "execution_count": null,
      "outputs": [
        {
          "output_type": "stream",
          "name": "stdout",
          "text": [
            "  name  1960_Unnamed: 0  1965_Unnamed: 0  1970_Unnamed: 0  1975_Unnamed: 0  \\\n",
            "0  AAB              NaN              NaN              NaN              NaN   \n",
            "1  AFG           1412.0           1413.0           1414.0           1415.0   \n",
            "2  ALB            551.0            552.0            553.0            554.0   \n",
            "3  ALG              NaN           1206.0           1207.0           1208.0   \n",
            "4  AND              NaN              NaN              NaN              NaN   \n",
            "\n",
            "   1980_Unnamed: 0  1985_Unnamed: 0  1990_Unnamed: 0  1995_Unnamed: 0  \\\n",
            "0            124.0            125.0            126.0            127.0   \n",
            "1           1416.0           1417.0           1418.0           1419.0   \n",
            "2            555.0            556.0            557.0            558.0   \n",
            "3           1209.0           1210.0           1211.0           1212.0   \n",
            "4              NaN              NaN              NaN            445.0   \n",
            "\n",
            "   2000_Unnamed: 0  ...  1965_reliabilevel  1970_reliabilevel  \\\n",
            "0            128.0  ...                NaN                NaN   \n",
            "1           1420.0  ...             Medium             Medium   \n",
            "2            559.0  ...             Medium                Low   \n",
            "3           1213.0  ...             Medium             Medium   \n",
            "4            446.0  ...                NaN                NaN   \n",
            "\n",
            "   1975_reliabilevel  1980_reliabilevel  1985_reliabilevel  1990_reliabilevel  \\\n",
            "0                NaN             Medium               High               High   \n",
            "1                Low             Medium             Medium             Medium   \n",
            "2                Low             Medium             Medium                Low   \n",
            "3             Medium             Medium                Low             Medium   \n",
            "4                NaN                NaN                NaN                NaN   \n",
            "\n",
            "   1995_reliabilevel  2000_reliabilevel  2005_reliabilevel  2010_reliabilevel  \n",
            "0             Medium             Medium             Medium             Medium  \n",
            "1             Medium             Medium             Medium             Medium  \n",
            "2             Medium             Medium             Medium               High  \n",
            "3             Medium             Medium               High             Medium  \n",
            "4                Low             Medium             Medium             Medium  \n",
            "\n",
            "[5 rows x 463 columns]\n"
          ]
        }
      ]
    }
  ]
}